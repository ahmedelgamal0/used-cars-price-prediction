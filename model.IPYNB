{
 "cells": [
  {
   "cell_type": "markdown",
   "metadata": {},
   "source": [
    "# Loading and Exploring the Data\n",
    "\n",
    "## Importing Libraries\n"
   ]
  },
  {
   "cell_type": "code",
   "execution_count": 53,
   "metadata": {},
   "outputs": [
    {
     "data": {
      "text/html": [
       "        <script type=\"text/javascript\">\n",
       "        window.PlotlyConfig = {MathJaxConfig: 'local'};\n",
       "        if (window.MathJax && window.MathJax.Hub && window.MathJax.Hub.Config) {window.MathJax.Hub.Config({SVG: {font: \"STIX-Web\"}});}\n",
       "        if (typeof require !== 'undefined') {\n",
       "        require.undef(\"plotly\");\n",
       "        requirejs.config({\n",
       "            paths: {\n",
       "                'plotly': ['https://cdn.plot.ly/plotly-2.24.1.min']\n",
       "            }\n",
       "        });\n",
       "        require(['plotly'], function(Plotly) {\n",
       "            window._Plotly = Plotly;\n",
       "        });\n",
       "        }\n",
       "        </script>\n",
       "        "
      ]
     },
     "metadata": {},
     "output_type": "display_data"
    },
    {
     "data": {
      "text/html": [
       "        <script type=\"text/javascript\">\n",
       "        window.PlotlyConfig = {MathJaxConfig: 'local'};\n",
       "        if (window.MathJax && window.MathJax.Hub && window.MathJax.Hub.Config) {window.MathJax.Hub.Config({SVG: {font: \"STIX-Web\"}});}\n",
       "        if (typeof require !== 'undefined') {\n",
       "        require.undef(\"plotly\");\n",
       "        requirejs.config({\n",
       "            paths: {\n",
       "                'plotly': ['https://cdn.plot.ly/plotly-2.24.1.min']\n",
       "            }\n",
       "        });\n",
       "        require(['plotly'], function(Plotly) {\n",
       "            window._Plotly = Plotly;\n",
       "        });\n",
       "        }\n",
       "        </script>\n",
       "        "
      ]
     },
     "metadata": {},
     "output_type": "display_data"
    }
   ],
   "source": [
    "import numpy as np\n",
    "import pandas as pd\n",
    "import cufflinks as cf\n",
    "import plotly.io as pio\n",
    "import plotly.express as px\n",
    "import plotly.graph_objects as go\n",
    "from plotly.subplots import make_subplots\n",
    "from plotly.offline import download_plotlyjs, init_notebook_mode, plot, iplot\n",
    "\n",
    "pio.templates.default = \"plotly_white\"\n",
    "\n",
    "init_notebook_mode(connected=True)\n",
    "cf.go_offline()\n",
    "\n",
    "import warnings\n",
    "warnings.filterwarnings(\"ignore\")\n",
    "\n",
    "bold_s = \"\\033[1m\"\n",
    "bold_e = \"\\033[0;0m\""
   ]
  },
  {
   "cell_type": "code",
   "execution_count": 54,
   "metadata": {},
   "outputs": [
    {
     "data": {
      "text/html": [
       "<div>\n",
       "<style scoped>\n",
       "    .dataframe tbody tr th:only-of-type {\n",
       "        vertical-align: middle;\n",
       "    }\n",
       "\n",
       "    .dataframe tbody tr th {\n",
       "        vertical-align: top;\n",
       "    }\n",
       "\n",
       "    .dataframe thead th {\n",
       "        text-align: right;\n",
       "    }\n",
       "</style>\n",
       "<table border=\"1\" class=\"dataframe\">\n",
       "  <thead>\n",
       "    <tr style=\"text-align: right;\">\n",
       "      <th></th>\n",
       "      <th>brand</th>\n",
       "      <th>model</th>\n",
       "      <th>condition</th>\n",
       "      <th>year</th>\n",
       "      <th>color</th>\n",
       "      <th>body_type</th>\n",
       "      <th>fuel_type</th>\n",
       "      <th>transmission_type</th>\n",
       "      <th>engine_capacity</th>\n",
       "      <th>location</th>\n",
       "      <th>km</th>\n",
       "      <th>price</th>\n",
       "    </tr>\n",
       "  </thead>\n",
       "  <tbody>\n",
       "    <tr>\n",
       "      <th>0</th>\n",
       "      <td>Mitsubishi</td>\n",
       "      <td>Xpander</td>\n",
       "      <td>New</td>\n",
       "      <td>2023</td>\n",
       "      <td>NaN</td>\n",
       "      <td>NaN</td>\n",
       "      <td>Benzine</td>\n",
       "      <td>Automatic</td>\n",
       "      <td>NaN</td>\n",
       "      <td>Shorouk City, Cairo</td>\n",
       "      <td>NaN</td>\n",
       "      <td>EGP 1,240,000</td>\n",
       "    </tr>\n",
       "    <tr>\n",
       "      <th>1</th>\n",
       "      <td>Other make</td>\n",
       "      <td>Other</td>\n",
       "      <td>New</td>\n",
       "      <td>2022</td>\n",
       "      <td>Blue- Navy Blue</td>\n",
       "      <td>NaN</td>\n",
       "      <td>Electric</td>\n",
       "      <td>Automatic</td>\n",
       "      <td>NaN</td>\n",
       "      <td>Heliopolis, Cairo</td>\n",
       "      <td>NaN</td>\n",
       "      <td>EGP 100,000</td>\n",
       "    </tr>\n",
       "    <tr>\n",
       "      <th>2</th>\n",
       "      <td>Mercedes-Benz</td>\n",
       "      <td>C200</td>\n",
       "      <td>Used</td>\n",
       "      <td>2019</td>\n",
       "      <td>Other Color</td>\n",
       "      <td>Cabriolet</td>\n",
       "      <td>Benzine</td>\n",
       "      <td>Automatic</td>\n",
       "      <td>1400 - 1500</td>\n",
       "      <td>Heliopolis, Cairo</td>\n",
       "      <td>60000 to 69999</td>\n",
       "      <td>EGP 1,350,000</td>\n",
       "    </tr>\n",
       "    <tr>\n",
       "      <th>3</th>\n",
       "      <td>MINI</td>\n",
       "      <td>Cooper</td>\n",
       "      <td>Used</td>\n",
       "      <td>2022</td>\n",
       "      <td>NaN</td>\n",
       "      <td>Hatchback</td>\n",
       "      <td>Benzine</td>\n",
       "      <td>Automatic</td>\n",
       "      <td>1600</td>\n",
       "      <td>Sheikh Zayed, Giza</td>\n",
       "      <td>0 to 9999</td>\n",
       "      <td>EGP 1,050,000</td>\n",
       "    </tr>\n",
       "    <tr>\n",
       "      <th>4</th>\n",
       "      <td>Haval</td>\n",
       "      <td>H6</td>\n",
       "      <td>New</td>\n",
       "      <td>2022</td>\n",
       "      <td>White</td>\n",
       "      <td>SUV</td>\n",
       "      <td>Benzine</td>\n",
       "      <td>Automatic</td>\n",
       "      <td>1400 - 1500</td>\n",
       "      <td>Mansura, Dakahlia</td>\n",
       "      <td>NaN</td>\n",
       "      <td>EGP 300,000</td>\n",
       "    </tr>\n",
       "  </tbody>\n",
       "</table>\n",
       "</div>"
      ],
      "text/plain": [
       "           brand    model condition  year            color  body_type  \\\n",
       "0     Mitsubishi  Xpander       New  2023              NaN        NaN   \n",
       "1     Other make    Other       New  2022  Blue- Navy Blue        NaN   \n",
       "2  Mercedes-Benz     C200      Used  2019      Other Color  Cabriolet   \n",
       "3           MINI   Cooper      Used  2022              NaN  Hatchback   \n",
       "4          Haval       H6       New  2022            White        SUV   \n",
       "\n",
       "  fuel_type transmission_type engine_capacity             location  \\\n",
       "0   Benzine         Automatic             NaN  Shorouk City, Cairo   \n",
       "1  Electric         Automatic             NaN    Heliopolis, Cairo   \n",
       "2   Benzine         Automatic     1400 - 1500    Heliopolis, Cairo   \n",
       "3   Benzine         Automatic            1600   Sheikh Zayed, Giza   \n",
       "4   Benzine         Automatic     1400 - 1500    Mansura, Dakahlia   \n",
       "\n",
       "               km          price  \n",
       "0             NaN  EGP 1,240,000  \n",
       "1             NaN    EGP 100,000  \n",
       "2  60000 to 69999  EGP 1,350,000  \n",
       "3       0 to 9999  EGP 1,050,000  \n",
       "4             NaN    EGP 300,000  "
      ]
     },
     "execution_count": 54,
     "metadata": {},
     "output_type": "execute_result"
    }
   ],
   "source": [
    "df = pd.read_csv('cars.csv')\n",
    "df.head()"
   ]
  },
  {
   "cell_type": "code",
   "execution_count": 55,
   "metadata": {},
   "outputs": [
    {
     "name": "stdout",
     "output_type": "stream",
     "text": [
      "\u001b[1mDataFrame Shape: \u001b[0;0m(8895, 12)\n"
     ]
    }
   ],
   "source": [
    "print(f'{bold_s}DataFrame Shape: {bold_e}{df.shape}')"
   ]
  },
  {
   "cell_type": "code",
   "execution_count": 56,
   "metadata": {},
   "outputs": [
    {
     "name": "stdout",
     "output_type": "stream",
     "text": [
      "<class 'pandas.core.frame.DataFrame'>\n",
      "RangeIndex: 8895 entries, 0 to 8894\n",
      "Data columns (total 12 columns):\n",
      " #   Column             Non-Null Count  Dtype \n",
      "---  ------             --------------  ----- \n",
      " 0   brand              8895 non-null   object\n",
      " 1   model              8895 non-null   object\n",
      " 2   condition          8895 non-null   object\n",
      " 3   year               8895 non-null   int64 \n",
      " 4   color              7443 non-null   object\n",
      " 5   body_type          7785 non-null   object\n",
      " 6   fuel_type          8895 non-null   object\n",
      " 7   transmission_type  8895 non-null   object\n",
      " 8   engine_capacity    8060 non-null   object\n",
      " 9   location           8880 non-null   object\n",
      " 10  km                 7106 non-null   object\n",
      " 11  price              8895 non-null   object\n",
      "dtypes: int64(1), object(11)\n",
      "memory usage: 834.0+ KB\n"
     ]
    }
   ],
   "source": [
    "df.info()"
   ]
  },
  {
   "cell_type": "code",
   "execution_count": 57,
   "metadata": {},
   "outputs": [
    {
     "name": "stdout",
     "output_type": "stream",
     "text": [
      "\u001b[1mDataFrame columns: \n",
      "\u001b[0;0m['brand', 'model', 'condition', 'year', 'color', 'body_type', 'fuel_type', 'transmission_type', 'engine_capacity', 'location', 'km', 'price']\n"
     ]
    }
   ],
   "source": [
    "df.columns\n",
    "print(f'{bold_s}DataFrame columns: \\n{bold_e}{df.columns.to_list()}')"
   ]
  },
  {
   "cell_type": "markdown",
   "metadata": {},
   "source": [
    "# Data Cleaning\n"
   ]
  },
  {
   "cell_type": "code",
   "execution_count": 58,
   "metadata": {},
   "outputs": [],
   "source": [
    "df['price'] = pd.to_numeric(\n",
    "    df['price'].str.replace('EGP ', '').str.replace(',', ''))\n",
    "\n",
    "df['engine_capacity'] = pd.to_numeric(\n",
    "    df['engine_capacity'].str.split(' ').str[-1], errors='coerce')\n",
    "\n",
    "df['km'] = pd.to_numeric(df['km'].str.split(' ').str[-1], errors='coerce')\n",
    "\n",
    "df['car_age'] = 2023 - df['year']\n",
    "\n",
    "cols = df.columns.to_list()\n",
    "cols = cols[:4] + cols[-1:] + cols[4:-1]\n",
    "df = df[cols]\n",
    "\n",
    "# df['engine_capacity'].value_counts()"
   ]
  },
  {
   "cell_type": "code",
   "execution_count": 59,
   "metadata": {},
   "outputs": [
    {
     "data": {
      "text/html": [
       "<div>\n",
       "<style scoped>\n",
       "    .dataframe tbody tr th:only-of-type {\n",
       "        vertical-align: middle;\n",
       "    }\n",
       "\n",
       "    .dataframe tbody tr th {\n",
       "        vertical-align: top;\n",
       "    }\n",
       "\n",
       "    .dataframe thead th {\n",
       "        text-align: right;\n",
       "    }\n",
       "</style>\n",
       "<table border=\"1\" class=\"dataframe\">\n",
       "  <thead>\n",
       "    <tr style=\"text-align: right;\">\n",
       "      <th></th>\n",
       "      <th>brand</th>\n",
       "      <th>model</th>\n",
       "      <th>condition</th>\n",
       "      <th>year</th>\n",
       "      <th>car_age</th>\n",
       "      <th>color</th>\n",
       "      <th>body_type</th>\n",
       "      <th>fuel_type</th>\n",
       "      <th>transmission_type</th>\n",
       "      <th>engine_capacity</th>\n",
       "      <th>location</th>\n",
       "      <th>km</th>\n",
       "      <th>price</th>\n",
       "    </tr>\n",
       "  </thead>\n",
       "  <tbody>\n",
       "    <tr>\n",
       "      <th>0</th>\n",
       "      <td>Mitsubishi</td>\n",
       "      <td>Xpander</td>\n",
       "      <td>New</td>\n",
       "      <td>2023</td>\n",
       "      <td>0</td>\n",
       "      <td>NaN</td>\n",
       "      <td>NaN</td>\n",
       "      <td>Benzine</td>\n",
       "      <td>Automatic</td>\n",
       "      <td>NaN</td>\n",
       "      <td>Shorouk City, Cairo</td>\n",
       "      <td>NaN</td>\n",
       "      <td>1240000.0</td>\n",
       "    </tr>\n",
       "    <tr>\n",
       "      <th>1</th>\n",
       "      <td>Other make</td>\n",
       "      <td>Other</td>\n",
       "      <td>New</td>\n",
       "      <td>2022</td>\n",
       "      <td>1</td>\n",
       "      <td>Blue- Navy Blue</td>\n",
       "      <td>NaN</td>\n",
       "      <td>Electric</td>\n",
       "      <td>Automatic</td>\n",
       "      <td>NaN</td>\n",
       "      <td>Heliopolis, Cairo</td>\n",
       "      <td>NaN</td>\n",
       "      <td>100000.0</td>\n",
       "    </tr>\n",
       "    <tr>\n",
       "      <th>2</th>\n",
       "      <td>Mercedes-Benz</td>\n",
       "      <td>C200</td>\n",
       "      <td>Used</td>\n",
       "      <td>2019</td>\n",
       "      <td>4</td>\n",
       "      <td>Other Color</td>\n",
       "      <td>Cabriolet</td>\n",
       "      <td>Benzine</td>\n",
       "      <td>Automatic</td>\n",
       "      <td>1500.0</td>\n",
       "      <td>Heliopolis, Cairo</td>\n",
       "      <td>69999.0</td>\n",
       "      <td>1350000.0</td>\n",
       "    </tr>\n",
       "    <tr>\n",
       "      <th>3</th>\n",
       "      <td>MINI</td>\n",
       "      <td>Cooper</td>\n",
       "      <td>Used</td>\n",
       "      <td>2022</td>\n",
       "      <td>1</td>\n",
       "      <td>NaN</td>\n",
       "      <td>Hatchback</td>\n",
       "      <td>Benzine</td>\n",
       "      <td>Automatic</td>\n",
       "      <td>1600.0</td>\n",
       "      <td>Sheikh Zayed, Giza</td>\n",
       "      <td>9999.0</td>\n",
       "      <td>1050000.0</td>\n",
       "    </tr>\n",
       "    <tr>\n",
       "      <th>4</th>\n",
       "      <td>Haval</td>\n",
       "      <td>H6</td>\n",
       "      <td>New</td>\n",
       "      <td>2022</td>\n",
       "      <td>1</td>\n",
       "      <td>White</td>\n",
       "      <td>SUV</td>\n",
       "      <td>Benzine</td>\n",
       "      <td>Automatic</td>\n",
       "      <td>1500.0</td>\n",
       "      <td>Mansura, Dakahlia</td>\n",
       "      <td>NaN</td>\n",
       "      <td>300000.0</td>\n",
       "    </tr>\n",
       "  </tbody>\n",
       "</table>\n",
       "</div>"
      ],
      "text/plain": [
       "           brand    model condition  year  car_age            color  \\\n",
       "0     Mitsubishi  Xpander       New  2023        0              NaN   \n",
       "1     Other make    Other       New  2022        1  Blue- Navy Blue   \n",
       "2  Mercedes-Benz     C200      Used  2019        4      Other Color   \n",
       "3           MINI   Cooper      Used  2022        1              NaN   \n",
       "4          Haval       H6       New  2022        1            White   \n",
       "\n",
       "   body_type fuel_type transmission_type  engine_capacity  \\\n",
       "0        NaN   Benzine         Automatic              NaN   \n",
       "1        NaN  Electric         Automatic              NaN   \n",
       "2  Cabriolet   Benzine         Automatic           1500.0   \n",
       "3  Hatchback   Benzine         Automatic           1600.0   \n",
       "4        SUV   Benzine         Automatic           1500.0   \n",
       "\n",
       "              location       km      price  \n",
       "0  Shorouk City, Cairo      NaN  1240000.0  \n",
       "1    Heliopolis, Cairo      NaN   100000.0  \n",
       "2    Heliopolis, Cairo  69999.0  1350000.0  \n",
       "3   Sheikh Zayed, Giza   9999.0  1050000.0  \n",
       "4    Mansura, Dakahlia      NaN   300000.0  "
      ]
     },
     "execution_count": 59,
     "metadata": {},
     "output_type": "execute_result"
    }
   ],
   "source": [
    "df.head()"
   ]
  },
  {
   "cell_type": "code",
   "execution_count": 60,
   "metadata": {},
   "outputs": [
    {
     "name": "stdout",
     "output_type": "stream",
     "text": [
      "\u001b[1mFeatures data types: \u001b[0;0m\n",
      "brand                 object\n",
      "model                 object\n",
      "condition             object\n",
      "year                   int64\n",
      "car_age                int64\n",
      "color                 object\n",
      "body_type             object\n",
      "fuel_type             object\n",
      "transmission_type     object\n",
      "engine_capacity      float64\n",
      "location              object\n",
      "km                   float64\n",
      "price                float64\n",
      "dtype: object\n"
     ]
    }
   ],
   "source": [
    "print(f'{bold_s}Features data types: {bold_e}\\n{df.dtypes}')"
   ]
  },
  {
   "cell_type": "code",
   "execution_count": 61,
   "metadata": {},
   "outputs": [
    {
     "name": "stdout",
     "output_type": "stream",
     "text": [
      "\u001b[1mMissing values count: \u001b[0;0m\n",
      "km                 1789\n",
      "color              1452\n",
      "body_type          1110\n",
      "engine_capacity     835\n",
      "location             15\n",
      "dtype: int64\n",
      "\n",
      "\u001b[1mMissing values contribution:\u001b[0;0m \n",
      "km                 20.11\n",
      "color              16.32\n",
      "body_type          12.48\n",
      "engine_capacity     9.39\n",
      "location            0.17\n",
      "dtype: float64\n"
     ]
    }
   ],
   "source": [
    "nan_sum = df.isnull().sum().sort_values(ascending=False)[:5]\n",
    "nan_percent = (df.isna().mean().round(\n",
    "    4) * 100).sort_values(ascending=False)[:5]\n",
    "\n",
    "print(f'{bold_s}Missing values count: {bold_e}\\n{nan_sum}')\n",
    "print(f'\\n{bold_s}Missing values contribution:{bold_e} \\n{nan_percent}')"
   ]
  },
  {
   "cell_type": "code",
   "execution_count": 62,
   "metadata": {},
   "outputs": [],
   "source": [
    "used = df[df['condition'] == 'Used']\n",
    "new = df[df['condition'] == 'New']"
   ]
  }
 ],
 "metadata": {
  "kernelspec": {
   "display_name": "Python 3",
   "language": "python",
   "name": "python3"
  },
  "language_info": {
   "codemirror_mode": {
    "name": "ipython",
    "version": 3
   },
   "file_extension": ".py",
   "mimetype": "text/x-python",
   "name": "python",
   "nbconvert_exporter": "python",
   "pygments_lexer": "ipython3",
   "version": "3.8.10"
  },
  "orig_nbformat": 4
 },
 "nbformat": 4,
 "nbformat_minor": 2
}
